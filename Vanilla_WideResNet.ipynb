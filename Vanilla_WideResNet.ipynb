{
  "nbformat": 4,
  "nbformat_minor": 0,
  "metadata": {
    "colab": {
      "name": "Vanilla_WideResNet.ipynb",
      "provenance": [],
      "collapsed_sections": [],
      "machine_shape": "hm",
      "authorship_tag": "ABX9TyMutXReq/YdPSG9RwcK1NMB",
      "include_colab_link": true
    },
    "kernelspec": {
      "name": "python3",
      "display_name": "Python 3"
    },
    "language_info": {
      "name": "python"
    },
    "accelerator": "GPU"
  },
  "cells": [
    {
      "cell_type": "markdown",
      "metadata": {
        "id": "view-in-github",
        "colab_type": "text"
      },
      "source": [
        "<a href=\"https://colab.research.google.com/github/sayakpaul/AdaMatch-TF/blob/main/Vanilla_WideResNet.ipynb\" target=\"_parent\"><img src=\"https://colab.research.google.com/assets/colab-badge.svg\" alt=\"Open In Colab\"/></a>"
      ]
    },
    {
      "cell_type": "markdown",
      "metadata": {
        "id": "bkcNKov7s1zN"
      },
      "source": [
        "## Imports"
      ]
    },
    {
      "cell_type": "code",
      "metadata": {
        "id": "r_FHvFMbpEDc"
      },
      "source": [
        "import tensorflow as tf\n",
        "import numpy as np\n",
        "\n",
        "from tensorflow import keras\n",
        "from tensorflow.keras import layers\n",
        "\n",
        "import tensorflow_datasets as tfds\n",
        "tfds.disable_progress_bar()"
      ],
      "execution_count": 1,
      "outputs": []
    },
    {
      "cell_type": "markdown",
      "metadata": {
        "id": "rMjSK2ILs3P4"
      },
      "source": [
        "## Datasets\n",
        "\n",
        "* Source: MNIST\n",
        "* Target: SVHN"
      ]
    },
    {
      "cell_type": "code",
      "metadata": {
        "id": "MzKmj9B_pV-c"
      },
      "source": [
        "(mnist_x_train, mnist_y_train), (mnist_x_test, mnist_y_test) = keras.datasets.mnist.load_data()\n",
        "\n",
        "# Add a channel dimension\n",
        "mnist_x_train = tf.expand_dims(mnist_x_train, -1)\n",
        "mnist_x_test = tf.expand_dims(mnist_x_test, -1)"
      ],
      "execution_count": 2,
      "outputs": []
    },
    {
      "cell_type": "code",
      "metadata": {
        "id": "IzRyB1X4pa1P"
      },
      "source": [
        "svhn_train, svhn_test = tfds.load(\"svhn_cropped\", split=[\"train\", \"test\"], as_supervised=True)"
      ],
      "execution_count": 3,
      "outputs": []
    },
    {
      "cell_type": "markdown",
      "metadata": {
        "id": "s573gqxxs9sy"
      },
      "source": [
        "## Constants & hyperparameters"
      ]
    },
    {
      "cell_type": "code",
      "metadata": {
        "id": "r4uiNuW0pclI"
      },
      "source": [
        "RESIZE_TO = 32\n",
        "BATCH_SIZE = 64\n",
        "EPOCHS = 10\n",
        "\n",
        "AUTO = tf.data.AUTOTUNE\n",
        "LEARNING_RATE = 0.03"
      ],
      "execution_count": 4,
      "outputs": []
    },
    {
      "cell_type": "markdown",
      "metadata": {
        "id": "eoobqkTLtAFg"
      },
      "source": [
        "## Data loaders"
      ]
    },
    {
      "cell_type": "code",
      "metadata": {
        "id": "iMaunCNEptNO"
      },
      "source": [
        "def augment(image, label, train=True):\n",
        "    image = tf.image.resize_with_pad(image, RESIZE_TO, RESIZE_TO)\n",
        "    image = tf.tile(image, [1, 1, 3])\n",
        "    if train:\n",
        "        image = tf.image.random_flip_left_right(image)\n",
        "        image = tf.image.random_crop(image, (RESIZE_TO, RESIZE_TO, 3))\n",
        "    return (image, label)"
      ],
      "execution_count": 5,
      "outputs": []
    },
    {
      "cell_type": "code",
      "metadata": {
        "id": "iAWo17tip35p"
      },
      "source": [
        "source_train_ds = tf.data.Dataset.from_tensor_slices((mnist_x_train, mnist_y_train))\n",
        "source_train_ds = (\n",
        "    source_train_ds\n",
        "    .shuffle(BATCH_SIZE * 100)\n",
        "    .map(augment, num_parallel_calls=AUTO)\n",
        "    .batch(BATCH_SIZE)\n",
        "    .prefetch(AUTO)\n",
        ")\n",
        "\n",
        "source_test_ds = tf.data.Dataset.from_tensor_slices((mnist_x_test, mnist_y_test))\n",
        "source_test_ds = (\n",
        "    source_test_ds\n",
        "    .map(lambda x, y: (augment(x, y, False)), num_parallel_calls=AUTO)\n",
        "    .batch(BATCH_SIZE)\n",
        "    .prefetch(AUTO)\n",
        ")"
      ],
      "execution_count": 6,
      "outputs": []
    },
    {
      "cell_type": "markdown",
      "metadata": {
        "id": "GcCmR7MCtBza"
      },
      "source": [
        "## Model, optimizer, and LR schedule"
      ]
    },
    {
      "cell_type": "code",
      "metadata": {
        "id": "HfhEWElHqi9L"
      },
      "source": [
        "!wget -O wide_resnet.py -q https://git.io/Jnzzj\n",
        "import wide_resnet"
      ],
      "execution_count": 7,
      "outputs": []
    },
    {
      "cell_type": "code",
      "metadata": {
        "colab": {
          "base_uri": "https://localhost:8080/"
        },
        "id": "dP5qwyspqsz1",
        "outputId": "08f7038c-fef6-4656-b221-f41ed0d5d235"
      },
      "source": [
        "wrn_model = wide_resnet.get_network()\n",
        "print(f\"Model has {wrn_model.count_params()/1e6} Million parameters.\")"
      ],
      "execution_count": 8,
      "outputs": [
        {
          "output_type": "stream",
          "text": [
            "Model has 1.471226 Million parameters.\n"
          ],
          "name": "stdout"
        }
      ]
    },
    {
      "cell_type": "code",
      "metadata": {
        "id": "GfFYLCV7qjjH"
      },
      "source": [
        "STEPS_PER_EPOCH = len(mnist_x_train)//BATCH_SIZE\n",
        "TOTAL_STEPS = EPOCHS * STEPS_PER_EPOCH\n",
        "\n",
        "reduce_lr = keras.optimizers.schedules.CosineDecay(\n",
        "    LEARNING_RATE, TOTAL_STEPS, 0.25)\n",
        "optimizer = keras.optimizers.Adam(reduce_lr)"
      ],
      "execution_count": 10,
      "outputs": []
    },
    {
      "cell_type": "markdown",
      "metadata": {
        "id": "v8-kC0-2tE53"
      },
      "source": [
        "## Model training and evaluation"
      ]
    },
    {
      "cell_type": "code",
      "metadata": {
        "colab": {
          "base_uri": "https://localhost:8080/"
        },
        "id": "WkRxmbnQqxKp",
        "outputId": "4c08820e-3777-4f93-f88b-2bc410d74053"
      },
      "source": [
        "wrn_model.compile(optimizer=optimizer, metrics=[\"accuracy\"], \n",
        "                  loss=keras.losses.SparseCategoricalCrossentropy(from_logits=True))\n",
        "wrn_model.fit(source_train_ds, epochs=EPOCHS)\n",
        "\n",
        "_, accuracy = wrn_model.evaluate(source_test_ds)\n",
        "print(f\"Accuracy on source test set: {accuracy * 100:.2f}%\")"
      ],
      "execution_count": 11,
      "outputs": [
        {
          "output_type": "stream",
          "text": [
            "Epoch 1/10\n",
            "938/938 [==============================] - 25s 23ms/step - loss: 1.1605 - accuracy: 0.8105\n",
            "Epoch 2/10\n",
            "938/938 [==============================] - 22s 23ms/step - loss: 0.5397 - accuracy: 0.9072\n",
            "Epoch 3/10\n",
            "938/938 [==============================] - 22s 23ms/step - loss: 0.4541 - accuracy: 0.9208\n",
            "Epoch 4/10\n",
            "938/938 [==============================] - 22s 23ms/step - loss: 0.4103 - accuracy: 0.9269\n",
            "Epoch 5/10\n",
            "938/938 [==============================] - 22s 23ms/step - loss: 0.3656 - accuracy: 0.9342\n",
            "Epoch 6/10\n",
            "938/938 [==============================] - 22s 23ms/step - loss: 0.3311 - accuracy: 0.9389\n",
            "Epoch 7/10\n",
            "938/938 [==============================] - 22s 23ms/step - loss: 0.2986 - accuracy: 0.9433\n",
            "Epoch 8/10\n",
            "938/938 [==============================] - 22s 23ms/step - loss: 0.2704 - accuracy: 0.9482\n",
            "Epoch 9/10\n",
            "938/938 [==============================] - 22s 23ms/step - loss: 0.2414 - accuracy: 0.9535\n",
            "Epoch 10/10\n",
            "938/938 [==============================] - 22s 23ms/step - loss: 0.2266 - accuracy: 0.9556\n",
            "157/157 [==============================] - 2s 8ms/step - loss: 1.4517 - accuracy: 0.6330\n",
            "Accuracy on source test set: 63.30%\n"
          ],
          "name": "stdout"
        }
      ]
    },
    {
      "cell_type": "code",
      "metadata": {
        "colab": {
          "base_uri": "https://localhost:8080/"
        },
        "id": "pRfmDgI2rfLG",
        "outputId": "c6d8fa1f-1809-40ef-ce6d-b6dc8075bce7"
      },
      "source": [
        "svhn_test = svhn_test.batch(BATCH_SIZE).prefetch(AUTO)\n",
        "_, accuracy = wrn_model.evaluate(svhn_test)\n",
        "print(f\"Accuracy on target test set: {accuracy * 100:.2f}%\")"
      ],
      "execution_count": 12,
      "outputs": [
        {
          "output_type": "stream",
          "text": [
            "407/407 [==============================] - 4s 8ms/step - loss: 12.9453 - accuracy: 0.0720\n",
            "Accuracy on target test set: 7.20%\n"
          ],
          "name": "stdout"
        }
      ]
    }
  ]
}