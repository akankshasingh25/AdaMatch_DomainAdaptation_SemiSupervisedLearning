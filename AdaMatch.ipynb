{
  "nbformat": 4,
  "nbformat_minor": 0,
  "metadata": {
    "colab": {
      "name": "AdaMatch",
      "provenance": [],
      "collapsed_sections": [],
      "machine_shape": "hm",
      "include_colab_link": true
    },
    "kernelspec": {
      "display_name": "Python 3",
      "name": "python3"
    },
    "accelerator": "GPU"
  },
  "cells": [
    {
      "cell_type": "markdown",
      "metadata": {
        "id": "view-in-github",
        "colab_type": "text"
      },
      "source": [
        "<a href=\"https://colab.research.google.com/github/sayakpaul/AdaMatch-TF/blob/main/AdaMatch.ipynb\" target=\"_parent\"><img src=\"https://colab.research.google.com/assets/colab-badge.svg\" alt=\"Open In Colab\"/></a>"
      ]
    },
    {
      "cell_type": "markdown",
      "metadata": {
        "id": "tAxTxpfhpT5i"
      },
      "source": [
        "In this example, we will implement AdaMatch proposed in [AdaMatch: A Unified Approach to Semi-Supervised Learning and Domain Adaptation](https://arxiv.org/abs/2106.04732) by Berthelot et al. It sets new state-of-the-art in unsupervised domain adaptation (as of June 2021). AdaMatch is particularly important for practical applications because it beautifully unifies semi-supervised learning (SSL) and unsupervised domain adaptation (UDA) under one framework. It thereby provides a way to perform semi-supervised domain adaptation (SSDA). \n",
        "\n",
        "This example requires TensorFlow 2.5 or higher, as well as TensorFlow Models, which can be installed using the following command:"
      ]
    },
    {
      "cell_type": "code",
      "metadata": {
        "id": "3OLIGf3NEGIE"
      },
      "source": [
        "!pip install -q tf-models-official"
      ],
      "execution_count": null,
      "outputs": []
    },
    {
      "cell_type": "markdown",
      "metadata": {
        "id": "-mZd8ziR7HPm"
      },
      "source": [
        "Before we proceed, let's review a few preliminary concepts underlying this example. "
      ]
    },
    {
      "cell_type": "markdown",
      "metadata": {
        "id": "SsJhE8IX7Ogj"
      },
      "source": [
        "## Preliminaries\n",
        "\n",
        "**Semi-supervised learning**, where we generally use a small amount of labeled dataset to train models on a bigger unlabeled dataset. Some popular semi-supervised learning methods for computer vision are [FixMatch](https://arxiv.org/abs/2001.07685), [MixMatch](https://arxiv.org/abs/1905.02249), [Noisy Student Training](https://arxiv.org/abs/1911.04252), etc. You can refer to [this example](https://keras.io/examples/vision/consistency_training/) to get an idea about a standard SSL workflow. \n",
        "\n",
        "**Unsupervised domain adaptation**, where we have access to a source labeled dataset and a target *unlabeled* dataset. Then the task is to learn a model that can generalize well to the target dataset. The source and the target datasets vary in terms of distribution. The following figure provides an overview of this idea. Here we have the [MNIST dataset](http://yann.lecun.com/exdb/mnist/) which is a dataset of images of handwritten digits as the source dataset. On the other hand, the target dataset is [SVHN](http://ufldl.stanford.edu/housenumbers/) which consists of images of house numbers. Both the datasets have various varying factors in terms of texture, viewpoint, appearence, etc. This is why their domains or distributions are different from one another. \n",
        "\n",
        "![](https://i.imgur.com/dJFSJuT.png)\n",
        "\n",
        "**Note** that in this example, we will using these two datasets as our source and target datasets. "
      ]
    },
    {
      "cell_type": "markdown",
      "metadata": {
        "id": "qep2O9pFtCPs"
      },
      "source": [
        "## Setup"
      ]
    },
    {
      "cell_type": "code",
      "metadata": {
        "id": "lIYdn1woOS1n"
      },
      "source": [
        "import tensorflow as tf\n",
        "tf.random.set_seed(42)\n",
        "\n",
        "import numpy as np\n",
        "\n",
        "from tensorflow import keras\n",
        "from official.vision.image_classification.augment import RandAugment\n",
        "\n",
        "import tensorflow_datasets as tfds\n",
        "tfds.disable_progress_bar()"
      ],
      "execution_count": null,
      "outputs": []
    },
    {
      "cell_type": "markdown",
      "metadata": {
        "id": "04dK69prtElH"
      },
      "source": [
        "## Datasets"
      ]
    },
    {
      "cell_type": "code",
      "metadata": {
        "id": "tP4-5lXwDwtx"
      },
      "source": [
        "(mnist_x_train, mnist_y_train), (mnist_x_test, mnist_y_test) = keras.datasets.mnist.load_data()\n",
        "\n",
        "# Add a channel dimension\n",
        "mnist_x_train = tf.expand_dims(mnist_x_train, -1)\n",
        "mnist_x_test = tf.expand_dims(mnist_x_test, -1)\n",
        "\n",
        "# Convert the labels to one-hot encoded vectors\n",
        "mnist_y_train = tf.one_hot(mnist_y_train, 10).numpy()"
      ],
      "execution_count": null,
      "outputs": []
    },
    {
      "cell_type": "code",
      "metadata": {
        "id": "rXuMnaV0EeDI"
      },
      "source": [
        "svhn_train, svhn_test = tfds.load(\"svhn_cropped\", split=[\"train\", \"test\"], as_supervised=True)"
      ],
      "execution_count": null,
      "outputs": []
    },
    {
      "cell_type": "markdown",
      "metadata": {
        "id": "wL4ntiwGtQAW"
      },
      "source": [
        "## Constants and hyperparameters"
      ]
    },
    {
      "cell_type": "code",
      "metadata": {
        "id": "IUphgint2ZAH"
      },
      "source": [
        "RESIZE_TO = 32\n",
        "\n",
        "SOURCE_BATCH_SIZE = 64\n",
        "TARGET_BATCH_SIZE = 3 * SOURCE_BATCH_SIZE # Reference: Section 3.2\n",
        "EPOCHS = 10\n",
        "STEPS_PER_EPOCH = len(mnist_x_train)//SOURCE_BATCH_SIZE\n",
        "TOTAL_STEPS = EPOCHS * STEPS_PER_EPOCH\n",
        "\n",
        "AUTO = tf.data.AUTOTUNE\n",
        "LEARNING_RATE = 0.03"
      ],
      "execution_count": null,
      "outputs": []
    },
    {
      "cell_type": "markdown",
      "metadata": {
        "id": "MWZcrSPztUIK"
      },
      "source": [
        "## Data augmentation utilities\n",
        "\n",
        "A standard element of SSL algorithms is to feed weakly and strongly augmented versions of the same images to the learning model and making its predictions consistent. For strong augmentation, [RandAugment](https://arxiv.org/abs/1909.13719) is a standard choice. For weak augmentation, we will use horizontal flipping and random cropping. "
      ]
    },
    {
      "cell_type": "code",
      "metadata": {
        "id": "ESGsH32UMTZ5"
      },
      "source": [
        "# Initialize `RandAugment` object with 2 layers of\n",
        "# augmentation transforms and strength of 5.\n",
        "augmenter = RandAugment(num_layers=2, magnitude=5)"
      ],
      "execution_count": null,
      "outputs": []
    },
    {
      "cell_type": "code",
      "metadata": {
        "id": "u-U84pMBMcd_"
      },
      "source": [
        "def weak_augment(image, source=True):\n",
        "    if image.dtype != tf.float32:\n",
        "        image = tf.cast(image, tf.float32)\n",
        "\n",
        "    # MNIST images are grayscale, this is why we first convert them to\n",
        "    # RGB images. \n",
        "    if source:\n",
        "        image = tf.image.resize_with_pad(image, RESIZE_TO, RESIZE_TO)\n",
        "        image = tf.tile(image, [1, 1, 3])\n",
        "    image = tf.image.random_flip_left_right(image)\n",
        "    image = tf.image.random_crop(image, (RESIZE_TO, RESIZE_TO, 3))\n",
        "    return image\n",
        "\n",
        "def strong_augment(image, source=True):\n",
        "    if image.dtype != tf.float32:\n",
        "        image = tf.cast(image, tf.float32)\n",
        "\n",
        "    if source:\n",
        "        image = tf.image.resize_with_pad(image, RESIZE_TO, RESIZE_TO)\n",
        "        image = tf.tile(image, [1, 1, 3])\n",
        "    image = augmenter.distort(image)\n",
        "    return image"
      ],
      "execution_count": null,
      "outputs": []
    },
    {
      "cell_type": "markdown",
      "metadata": {
        "id": "aAoCA3w2tY-0"
      },
      "source": [
        "## Data loader utilities"
      ]
    },
    {
      "cell_type": "code",
      "metadata": {
        "id": "EBzQvTdqNis2"
      },
      "source": [
        "def create_individual_ds(ds, aug_func, source=True):\n",
        "    if source:\n",
        "        batch_size = SOURCE_BATCH_SIZE\n",
        "    else:\n",
        "        # During training 3x more target unlabeled samples are shown\n",
        "        # to the model in AdaMatch (Section 3.2 of the paper).\n",
        "        batch_size = TARGET_BATCH_SIZE\n",
        "    ds = ds.shuffle(batch_size * 10, seed=42)\n",
        "    \n",
        "    if source:\n",
        "        ds = ds.map(lambda x, y: (aug_func(x), y), num_parallel_calls=AUTO)\n",
        "    else:\n",
        "        ds = ds.map(lambda x, y: (aug_func(x, False), y), num_parallel_calls=AUTO)\n",
        "    \n",
        "    ds = ds.batch(batch_size).prefetch(AUTO)\n",
        "    return ds"
      ],
      "execution_count": null,
      "outputs": []
    },
    {
      "cell_type": "markdown",
      "metadata": {
        "id": "BWDtsqjpAL9U"
      },
      "source": [
        "`_w` and `_s` suffixes denote weak and strong respectively. "
      ]
    },
    {
      "cell_type": "code",
      "metadata": {
        "colab": {
          "base_uri": "https://localhost:8080/"
        },
        "id": "nqfer5WZPZdf",
        "outputId": "3ef17b73-5b68-44ca-d399-0c3ba110cf2e"
      },
      "source": [
        "source_ds = tf.data.Dataset.from_tensor_slices((mnist_x_train, mnist_y_train))\n",
        "source_ds_w = create_individual_ds(source_ds, weak_augment)\n",
        "source_ds_s = create_individual_ds(source_ds, strong_augment)\n",
        "final_source_ds = tf.data.Dataset.zip((source_ds_w, source_ds_s))"
      ],
      "execution_count": null,
      "outputs": [
        {
          "output_type": "stream",
          "text": [
            "WARNING:tensorflow:From /usr/local/lib/python3.7/dist-packages/tensorflow/python/ops/array_ops.py:5049: calling gather (from tensorflow.python.ops.array_ops) with validate_indices is deprecated and will be removed in a future version.\n",
            "Instructions for updating:\n",
            "The `validate_indices` argument has no effect. Indices are always validated on CPU and never validated on GPU.\n"
          ],
          "name": "stdout"
        },
        {
          "output_type": "stream",
          "text": [
            "WARNING:tensorflow:From /usr/local/lib/python3.7/dist-packages/tensorflow/python/ops/array_ops.py:5049: calling gather (from tensorflow.python.ops.array_ops) with validate_indices is deprecated and will be removed in a future version.\n",
            "Instructions for updating:\n",
            "The `validate_indices` argument has no effect. Indices are always validated on CPU and never validated on GPU.\n"
          ],
          "name": "stderr"
        }
      ]
    },
    {
      "cell_type": "code",
      "metadata": {
        "id": "SHlIGIckR8Pg"
      },
      "source": [
        "target_ds_w = create_individual_ds(svhn_train, weak_augment, source=False)\n",
        "target_ds_s = create_individual_ds(svhn_train, strong_augment, source=False)\n",
        "final_target_ds = tf.data.Dataset.zip((target_ds_w, target_ds_s))"
      ],
      "execution_count": null,
      "outputs": []
    },
    {
      "cell_type": "markdown",
      "metadata": {
        "id": "AdSUNutXwhBp"
      },
      "source": [
        "Here's how the image batches look like:\n",
        "\n",
        "![](https://i.imgur.com/aver8cG.png)"
      ]
    },
    {
      "cell_type": "markdown",
      "metadata": {
        "id": "azk6uqdBtbcW"
      },
      "source": [
        "## Utilities for loss calculation utilities and weight scheduler"
      ]
    },
    {
      "cell_type": "code",
      "metadata": {
        "id": "4KGtLR-DvC3n"
      },
      "source": [
        "def compute_loss_source(source_labels, logits_source_w, logits_source_s):\n",
        "    loss_func = keras.losses.CategoricalCrossentropy(from_logits=True)\n",
        "    # First compute the losses between original source labels and\n",
        "    # predictions made on the weakly and strongly augmented versions \n",
        "    # of the same images.\n",
        "    w_loss = loss_func(source_labels, logits_source_w)\n",
        "    s_loss = loss_func(source_labels, logits_source_s)\n",
        "    return w_loss + s_loss\n",
        "\n",
        "def compute_loss_target(target_pseudo_labels_w, logits_target_s, mask):\n",
        "    loss_func = keras.losses.CategoricalCrossentropy(from_logits=True, reduction=\"none\")\n",
        "    target_pseudo_labels_w = tf.stop_gradient(target_pseudo_labels_w)\n",
        "    # For calculating loss for the target samples, we treat the pseudo labels\n",
        "    # as the ground-truth. These are not considered during backpropagation\n",
        "    # which is a standard SSL practice.\n",
        "    target_loss = loss_func(target_pseudo_labels_w, logits_target_s)\n",
        "\n",
        "    # More on `mask` later. \n",
        "    mask = tf.cast(mask, target_loss.dtype)\n",
        "    target_loss *= mask\n",
        "    return tf.reduce_mean(target_loss, 0)"
      ],
      "execution_count": null,
      "outputs": []
    },
    {
      "cell_type": "markdown",
      "metadata": {
        "id": "TBbtgKYcti1T"
      },
      "source": [
        "## Subclassed model for AdaMatch trainer\n",
        "\n",
        "The figure below presents the overall workflow of AdaMatch (taken from the [original paper](https://arxiv.org/abs/2106.04732)):\n",
        "\n",
        "![](https://i.imgur.com/1QsEm2M.png)\n",
        "\n",
        "Here's a brief step-by-step breakdown of the workflow:\n",
        "\n",
        "1. We first retrieve the weakly and stronhly augmented pairs of images from source and target images. \n",
        "2. Then we prepare two concatenated copies:\n",
        "\n",
        "    i. One where all the two pairs are concatenated. \n",
        "\n",
        "    ii. One where only the source image pair is concatenated. \n",
        "3. We make two forwarded passes through the underlying learning model:\n",
        "\n",
        "    i. The first forward pass encompasses the concatenated copy obtained from **2.i**. In this forward pass, the [Batch Normalization](https://arxiv.org/abs/1502.03167) statistics are updated. \n",
        "\n",
        "    ii. In this forward pass, we only use the concatenated copy obtained from **2.ii**. Also, in this case, Batch Normalization layers are run in inference mode. \n",
        "4. Then the respective logits are computed for both the forward passes. \n",
        "5. The logits then go through a series of transformations introduced in the paper (which are discussed shortly). \n",
        "6. We then compute the losses and update the gradients of the underlying model. "
      ]
    },
    {
      "cell_type": "code",
      "metadata": {
        "id": "Po3nd54_jO3Y"
      },
      "source": [
        "class AdaMatch(keras.Model):\n",
        "    def __init__(self, model, tau=0.9):\n",
        "        super(AdaMatch, self).__init__()\n",
        "        self.model = model\n",
        "        self.tau = tau # Denotes the confidence threshold\n",
        "        self.loss_tracker = tf.keras.metrics.Mean(name=\"loss\")\n",
        "        self.total_steps = TOTAL_STEPS\n",
        "        self.current_step = tf.Variable(0, dtype=\"int64\")\n",
        "\n",
        "    @property\n",
        "    def metrics(self):\n",
        "        return [self.loss_tracker]\n",
        "\n",
        "    # This is a warmup schedule to update the weight of the\n",
        "    # loss contributed by the target unlabeled samples. More\n",
        "    # on this in the text.\n",
        "    def compute_mu(self):\n",
        "        pi = tf.constant(np.pi, dtype=\"float32\")\n",
        "        step = tf.cast(self.current_step, dtype=\"float32\")\n",
        "        return 0.5 - tf.cos(tf.math.minimum(pi, (2 * pi * step) / self.total_steps)) / 2\n",
        "    \n",
        "\n",
        "    def train_step(self, data):\n",
        "        ## Unpack and organize the data ##\n",
        "        source_ds, target_ds = data\n",
        "        (source_w, source_labels), (source_s, _) = source_ds\n",
        "        (target_w, _), (target_s, _) = target_ds # Notice that we are NOT using any labels here. \n",
        "        \n",
        "        combined_images = tf.concat([source_w, source_s, target_w, target_s], 0)\n",
        "        combined_source = tf.concat([source_w, source_s], 0)\n",
        "\n",
        "        total_source = tf.shape(combined_source)[0]\n",
        "        total_target = tf.shape(tf.concat([target_w, target_s], 0))[0]\n",
        "        \n",
        "        with tf.GradientTape() as tape:\n",
        "            ## Forward passes ##\n",
        "            combined_logits = self.model(combined_images, training=True)\n",
        "            z_d_prime_source = self.model(combined_source, training=False) # No BatchNorm update.\n",
        "            z_prime_source = combined_logits[:total_source]\n",
        "\n",
        "            ## 1. Random logit interpolation for the source images ##\n",
        "            lambd = tf.random.uniform((total_source, 10), 0, 1) \n",
        "            final_source_logits = (lambd * z_prime_source) + ((1 - lambd) * z_d_prime_source)\n",
        "\n",
        "            ## 2. Distribution alignment (only consider weakly augmented images) ##\n",
        "            # Compute softmax for logits of the WEAKLY augmented SOURCE images.\n",
        "            y_hat_source_w = tf.nn.softmax(final_source_logits[:tf.shape(source_w)[0]]) \n",
        "\n",
        "            # Extract logits for the WEAKLY augmented TARGET images and compute softmax.\n",
        "            logits_target = combined_logits[total_source:]\n",
        "            logits_target_w = logits_target[:tf.shape(target_w)[0]]\n",
        "            y_hat_target_w = tf.nn.softmax(logits_target_w)\n",
        "\n",
        "            # Align the target label distribution to that of the source.\n",
        "            expectation_ratio = tf.reduce_mean(y_hat_source_w) / tf.reduce_mean(y_hat_target_w)\n",
        "            y_tilde_target_w = tf.math.l2_normalize(y_hat_target_w * expectation_ratio, 1)\n",
        "\n",
        "            ## 3. Relative confidence thresholding ##\n",
        "            row_wise_max = tf.reduce_max(y_hat_source_w, axis=-1)\n",
        "            final_sum = tf.reduce_mean(row_wise_max, 0)\n",
        "            c_tau = self.tau * final_sum\n",
        "            mask = tf.reduce_max(y_tilde_target_w, axis=-1) >= c_tau\n",
        "\n",
        "            ## Compute losses (pay attention to the indexing) ##\n",
        "            source_loss = compute_loss_source(source_labels, final_source_logits[:tf.shape(source_w)[0]], \n",
        "                                              final_source_logits[tf.shape(source_w)[0]:])\n",
        "            target_loss = compute_loss_target(y_tilde_target_w, logits_target[tf.shape(target_w)[0]:], mask)\n",
        "\n",
        "            t = self.compute_mu() # Compute weight for the target loss\n",
        "            total_loss = source_loss + (t * target_loss)\n",
        "            self.current_step.assign_add(1) # Update current training step for the scheduler\n",
        "\n",
        "        gradients = tape.gradient(total_loss, self.model.trainable_variables)\n",
        "        self.optimizer.apply_gradients(zip(gradients, self.model.trainable_variables))\n",
        "\n",
        "        self.loss_tracker.update_state(total_loss)\n",
        "        return {\"loss\": self.loss_tracker.result()}"
      ],
      "execution_count": null,
      "outputs": []
    },
    {
      "cell_type": "markdown",
      "metadata": {
        "id": "JJFm0T2uEVdx"
      },
      "source": [
        "The authors introduce three improvements in the paper:\n",
        "\n",
        "* In AdaMatch, we perform two forward passes and only one of them is respsonsible for updating the Batch Normalization statistics. This is done to account for the distribution shifts from the target dataset. In the other forward pass, we only use the source sample and the Batch Normalization layers are run in inference mode. Logits for the source samples (weakly and strongly augmented versions) from these two passes are slightly different from one another because of how Batch Normalization layers are run. Final logits for the source samples are computed by linearly interpolating between these two different pairs of logits. This induces a form of consistency regularization. This step is referred to as **random logit interpolation**.\n",
        "* **Distribution alignment** is used to align the source and target label distributions. This further helps the underlying model learn *domain-invariant representations*. In case of unsupervised domain adaptation, we don't have access to any labels of the target dataset. This is why pseudo labels are generated from the underlying model. \n",
        "* The underlying model generates pseudo-labels for the target samples. It's likely that the model would make faulty predictions. Those can propagate back as we make progress in the training and hurt the overall performance. To compensate for that, we filter the high-confidence predictions based on a threshold (hence the use of `mask` inside `compute_loss_target()`). In AdaMatch, this threshold is relatively adjusted which is why it's called **relative confidence thresholding**. \n",
        "\n",
        "For more details on these methods and to know how each of them contribute please refer to [the paper](https://arxiv.org/abs/2106.04732). \n",
        "\n",
        "**About `compute_mu()`**:\n",
        "\n",
        "Rather than using a fixed scalar quantity, a varying scalar is used in AdaMatch. It denotes the weight of the loss contibuted by the target samples. Visually, the weight scheduler look like so:\n",
        "\n",
        "![](https://i.imgur.com/dG7i9uH.png)\n",
        "\n",
        "This scheduler increases the weight of the target domain loss from 0 to 1 for the first half of the training. Then it keeps that weight at 1 for the second half of the training. "
      ]
    },
    {
      "cell_type": "markdown",
      "metadata": {
        "id": "AnD2pvyBtmeF"
      },
      "source": [
        "## Instantiate a Wide-ResNet-28-2\n",
        "\n",
        "The authors use a [WideResNet-28-2](https://arxiv.org/abs/1605.07146) for the dataset pairs we are using in this example. Note that the following model has a scaling layer inside it that scales the pixel values to [0, 1]. "
      ]
    },
    {
      "cell_type": "code",
      "metadata": {
        "id": "aMYpGEPfL1mM"
      },
      "source": [
        "!wget -O wide_resnet.py -q https://git.io/Jnzzj\n",
        "import wide_resnet"
      ],
      "execution_count": null,
      "outputs": []
    },
    {
      "cell_type": "code",
      "metadata": {
        "colab": {
          "base_uri": "https://localhost:8080/"
        },
        "id": "jvP0xonCL-Gn",
        "outputId": "f35246c1-c465-4b19-9db1-89ef6798a66e"
      },
      "source": [
        "wrn_model = wide_resnet.get_network()\n",
        "print(f\"Model has {wrn_model.count_params()/1e6} Million parameters.\")"
      ],
      "execution_count": null,
      "outputs": [
        {
          "output_type": "stream",
          "text": [
            "Model has 1.471226 Million parameters.\n"
          ],
          "name": "stdout"
        }
      ]
    },
    {
      "cell_type": "code",
      "metadata": {
        "id": "AxXwHK_x2Nos"
      },
      "source": [
        "# For reproducibility\n",
        "wrn_model.save_weights(\"wrn_initial_weights.h5\")"
      ],
      "execution_count": null,
      "outputs": []
    },
    {
      "cell_type": "markdown",
      "metadata": {
        "id": "GE0JNjAJtwI-"
      },
      "source": [
        "## Instantiate optimizer and AdaMatch trainer"
      ]
    },
    {
      "cell_type": "code",
      "metadata": {
        "id": "Gb1Pcb3CUeXQ"
      },
      "source": [
        "reduce_lr = keras.optimizers.schedules.CosineDecay(\n",
        "    LEARNING_RATE, TOTAL_STEPS, 0.25)\n",
        "optimizer = keras.optimizers.Adam(reduce_lr)\n",
        "\n",
        "adamatch_trainer = AdaMatch(wrn_model)\n",
        "adamatch_trainer.compile(optimizer=optimizer)"
      ],
      "execution_count": null,
      "outputs": []
    },
    {
      "cell_type": "markdown",
      "metadata": {
        "id": "m91swhvKt3yr"
      },
      "source": [
        "## Model training"
      ]
    },
    {
      "cell_type": "code",
      "metadata": {
        "colab": {
          "base_uri": "https://localhost:8080/"
        },
        "id": "Z7PoZhhgVPrq",
        "outputId": "b6a34096-a1dd-447f-ac2f-dad74acf0f66"
      },
      "source": [
        "total_ds = tf.data.Dataset.zip((final_source_ds, final_target_ds))\n",
        "adamatch_trainer.fit(total_ds,\n",
        "                     epochs=EPOCHS)"
      ],
      "execution_count": null,
      "outputs": [
        {
          "output_type": "stream",
          "text": [
            "Epoch 1/10\n",
            "382/382 [==============================] - 47s 105ms/step - loss: 220540813312.0000\n",
            "Epoch 2/10\n",
            "382/382 [==============================] - 40s 104ms/step - loss: 3.0402\n",
            "Epoch 3/10\n",
            "382/382 [==============================] - 40s 104ms/step - loss: 2.2451\n",
            "Epoch 4/10\n",
            "382/382 [==============================] - 40s 105ms/step - loss: 1.6366\n",
            "Epoch 5/10\n",
            "382/382 [==============================] - 40s 105ms/step - loss: 1.3403\n",
            "Epoch 6/10\n",
            "382/382 [==============================] - 41s 105ms/step - loss: 1.0167\n",
            "Epoch 7/10\n",
            "382/382 [==============================] - 40s 105ms/step - loss: 0.8883\n",
            "Epoch 8/10\n",
            "382/382 [==============================] - 41s 106ms/step - loss: 0.9041\n",
            "Epoch 9/10\n",
            "382/382 [==============================] - 41s 106ms/step - loss: 1.0881\n",
            "Epoch 10/10\n",
            "382/382 [==============================] - 40s 104ms/step - loss: 1.8977\n"
          ],
          "name": "stdout"
        },
        {
          "output_type": "execute_result",
          "data": {
            "text/plain": [
              "<tensorflow.python.keras.callbacks.History at 0x7f67aa4f2190>"
            ]
          },
          "metadata": {
            "tags": []
          },
          "execution_count": 17
        }
      ]
    },
    {
      "cell_type": "markdown",
      "metadata": {
        "id": "EAMrE0zkxBFZ"
      },
      "source": [
        "## Evaluation on the source and target test sets"
      ]
    },
    {
      "cell_type": "code",
      "metadata": {
        "id": "dzkKvZ53xrxu"
      },
      "source": [
        "# Compile the AdaMatch model to yield accuracy\n",
        "adamatch_trained_model = adamatch_trainer.model\n",
        "adamatch_trained_model.compile(metrics=keras.metrics.SparseCategoricalAccuracy())"
      ],
      "execution_count": null,
      "outputs": []
    },
    {
      "cell_type": "code",
      "metadata": {
        "colab": {
          "base_uri": "https://localhost:8080/"
        },
        "id": "JoclgeeIxDul",
        "outputId": "3474b3f9-f93e-466a-f235-c598f3e2572c"
      },
      "source": [
        "svhn_test = svhn_test.batch(TARGET_BATCH_SIZE).prefetch(AUTO)\n",
        "_, accuracy = adamatch_trained_model.evaluate(svhn_test)\n",
        "print(f\"Accuracy on target test set: {accuracy * 100:.2f}%\")"
      ],
      "execution_count": null,
      "outputs": [
        {
          "output_type": "stream",
          "text": [
            "136/136 [==============================] - 3s 16ms/step - loss: 302.4805 - sparse_categorical_accuracy: 0.1042\n",
            "Accuracy on target test set: 10.42%\n"
          ],
          "name": "stdout"
        }
      ]
    },
    {
      "cell_type": "markdown",
      "metadata": {
        "id": "Iftqxml4KrYQ"
      },
      "source": [
        "With more training this score improves. Also, with a standard supervised learning objective, the same network (initialized with the same random weights) gets to a top-1 accuracy of **7.20%** on the SVHN test set. For more details, please refer to [this Colab Notebook](https://colab.research.google.com/github/sayakpaul/AdaMatch-TF/blob/main/Vanilla_WideResNet.ipynb). "
      ]
    },
    {
      "cell_type": "code",
      "metadata": {
        "colab": {
          "base_uri": "https://localhost:8080/"
        },
        "id": "L2f2YInWyZd3",
        "outputId": "d973b1ca-c9e1-43e6-ddb7-e8e59675ff8b"
      },
      "source": [
        "def prepare_test_ds_source(image, label):\n",
        "    image = tf.image.resize_with_pad(image, RESIZE_TO, RESIZE_TO)\n",
        "    image = tf.tile(image, [1, 1, 3])\n",
        "    return image, label\n",
        "\n",
        "source_test_ds = tf.data.Dataset.from_tensor_slices((mnist_x_test, mnist_y_test))\n",
        "source_test_ds = (\n",
        "    source_test_ds\n",
        "    .map(prepare_test_ds_source, num_parallel_calls=AUTO)\n",
        "    .batch(TARGET_BATCH_SIZE)\n",
        "    .prefetch(AUTO)\n",
        ")\n",
        "\n",
        "_, accuracy = adamatch_trained_model.evaluate(source_test_ds)\n",
        "print(f\"Accuracy on source test set: {accuracy * 100:.2f}%\")"
      ],
      "execution_count": null,
      "outputs": [
        {
          "output_type": "stream",
          "text": [
            "53/53 [==============================] - 1s 11ms/step - loss: 302.4805 - sparse_categorical_accuracy: 0.9586\n",
            "Accuracy on source test set: 95.86%\n"
          ],
          "name": "stdout"
        }
      ]
    },
    {
      "cell_type": "code",
      "metadata": {
        "colab": {
          "base_uri": "https://localhost:8080/"
        },
        "id": "j3td3Dtq9aKy",
        "outputId": "3b237bda-dbf3-413e-dfdd-e4db87f99608"
      },
      "source": [
        "adamatch_trained_model.save(\"wide_resnet_adamatch\")\n",
        "!tar cf wide_resnet_adamatch.tar.gz wide_resnet_adamatch"
      ],
      "execution_count": null,
      "outputs": [
        {
          "output_type": "stream",
          "text": [
            "/usr/local/lib/python3.7/dist-packages/tensorflow/python/keras/utils/generic_utils.py:497: CustomMaskWarning: Custom mask layers require a config and must override get_config. When loading, the custom mask layer must be passed to the custom_objects argument.\n",
            "  category=CustomMaskWarning)\n"
          ],
          "name": "stderr"
        },
        {
          "output_type": "stream",
          "text": [
            "INFO:tensorflow:Assets written to: wide_resnet_adamatch/assets\n"
          ],
          "name": "stdout"
        },
        {
          "output_type": "stream",
          "text": [
            "INFO:tensorflow:Assets written to: wide_resnet_adamatch/assets\n"
          ],
          "name": "stderr"
        }
      ]
    },
    {
      "cell_type": "markdown",
      "metadata": {
        "id": "FIhlCRs8LVUI"
      },
      "source": [
        "You can reproduce the results by using these [model weights](https://github.com/sayakpaul/AdaMatch-TF/releases/tag/v1.0.0). "
      ]
    }
  ]
}